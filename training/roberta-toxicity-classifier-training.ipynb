{
 "cells": [
  {
   "metadata": {
    "ExecuteTime": {
     "end_time": "2025-04-22T13:06:51.693728Z",
     "start_time": "2025-04-22T13:06:29.281881Z"
    }
   },
   "cell_type": "code",
   "source": [
    "import pandas as pd\n",
    "import numpy as np\n",
    "import torch\n",
    "from datasets import Dataset\n",
    "from transformers import RobertaTokenizer, RobertaForSequenceClassification, Trainer, TrainingArguments\n",
    "from sklearn.metrics import accuracy_score, precision_recall_fscore_support\n",
    "from datetime import datetime\n",
    "import os\n",
    "import json"
   ],
   "id": "4e2963fc12ab9196",
   "outputs": [],
   "execution_count": 1
  },
  {
   "metadata": {
    "ExecuteTime": {
     "end_time": "2025-04-22T09:07:02.588834Z",
     "start_time": "2025-04-22T09:07:02.574898Z"
    }
   },
   "cell_type": "code",
   "source": [
    "# ✅ Detect MPS\n",
    "device = torch.device(\"mps\" if torch.backends.mps.is_available() else \"cpu\")\n",
    "print(f\"Using device: {device}\")"
   ],
   "id": "a477bdbc3897c1c5",
   "outputs": [
    {
     "name": "stdout",
     "output_type": "stream",
     "text": [
      "Using device: mps\n"
     ]
    }
   ],
   "execution_count": 2
  },
  {
   "metadata": {
    "ExecuteTime": {
     "end_time": "2025-04-22T09:07:04.167981Z",
     "start_time": "2025-04-22T09:07:04.166024Z"
    }
   },
   "cell_type": "code",
   "source": "project_root = os.path.abspath(\"..\")",
   "id": "8d6cff64f3c39057",
   "outputs": [],
   "execution_count": 3
  },
  {
   "metadata": {
    "ExecuteTime": {
     "end_time": "2025-04-22T09:07:07.463825Z",
     "start_time": "2025-04-22T09:07:07.461363Z"
    }
   },
   "cell_type": "code",
   "source": [
    "# Load dataset\n",
    "dataset_version = {\n",
    "    \"joined\": os.path.join(project_root, \"datasets/processed_joined_toxicity_data.csv\"),\n",
    "    \"split\": os.path.join(project_root, \"datasets/processed_split_toxicity_data.csv\"),\n",
    "    \"message_only\": os.path.join(project_root, \"datasets/processed_split_toxicity_data.csv\")\n",
    "}\n",
    "\n",
    "# Three tokenizers\n",
    "def tokenize_joined(example):\n",
    "    return tokenizer(example[\"input_text\"], padding=\"max_length\", truncation=True, max_length=512)\n",
    "\n",
    "def tokenize_split(example):\n",
    "    return tokenizer(example[\"context\"], example[\"message\"], padding=\"max_length\", truncation=True, max_length=512)\n",
    "\n",
    "def tokenize_message_only(example):\n",
    "    return tokenizer(example[\"message\"], padding=\"max_length\", truncation=True, max_length=512)\n",
    "\n",
    "tokenize_funcs = {\n",
    "    \"joined\": tokenize_joined,\n",
    "    \"split\": tokenize_split,\n",
    "    \"message_only\": tokenize_message_only\n",
    "}"
   ],
   "id": "9cb396d9a0452ded",
   "outputs": [],
   "execution_count": 4
  },
  {
   "metadata": {},
   "cell_type": "code",
   "source": [
    "BEST_MODELS_PATH = \"best_models.json\"\n",
    "F1_TOLERANCE = 1e-2\n",
    "\n",
    "def load_best_models():\n",
    "    if not os.path.exists(BEST_MODELS_PATH):\n",
    "        return {\n",
    "            'bert-base-uncased-joined': {'f1': 0.0, 'precision': 0.0},\n",
    "            'bert-base-uncased-split': {'f1': 0.0, 'precision': 0.0},\n",
    "            'bert-base-uncased-message_only': {'f1': 0.0, 'precision': 0.0},\n",
    "            'bert-large-uncased-joined': {'f1': 0.0, 'precision': 0.0},\n",
    "            'bert-large-uncased-split': {'f1': 0.0, 'precision': 0.0},\n",
    "            'bert-large-uncased-message_only': {'f1': 0.0, 'precision': 0.0},\n",
    "            's-nlp-roberta-toxicity-classifier-joined': {'f1': 0.0, 'precision': 0.0},\n",
    "            's-nlp-roberta-toxicity-classifier-split': {'f1': 0.0, 'precision': 0.0},\n",
    "            's-nlp-roberta-toxicity-classifier-message_only': {'f1': 0.0, 'precision': 0.0}\n",
    "        }\n",
    "    with open(BEST_MODELS_PATH, \"r\") as f:\n",
    "        return json.load(f)"
   ],
   "id": "4d654ca85f140cd2",
   "outputs": [],
   "execution_count": null
  },
  {
   "metadata": {
    "ExecuteTime": {
     "end_time": "2025-04-22T09:07:13.879069Z",
     "start_time": "2025-04-22T09:07:13.876206Z"
    }
   },
   "cell_type": "code",
   "source": [
    "def update_best_model(model_name, f1_score, precision):\n",
    "    best_models = load_best_models()\n",
    "    current_best = best_models.get(model_name, {\"f1\": 0.0, \"precision\": 0.0})\n",
    "\n",
    "    better_f1 = f1_score - F1_TOLERANCE > current_best[\"f1\"]\n",
    "    similar_f1 = abs(f1_score - current_best[\"f1\"]) <= F1_TOLERANCE\n",
    "    better_precision = precision > current_best[\"precision\"]\n",
    "\n",
    "    should_update = better_f1 or (similar_f1 and better_precision)\n",
    "\n",
    "    if should_update:\n",
    "        print(f\"🎯 New best for {model_name}!\")\n",
    "        print(f\"F1: {f1_score:.4f} (prev: {current_best['f1']:.4f}) | Precision: {precision:.4f} (prev: {current_best['precision']:.4f})\")\n",
    "        best_models[model_name] = {\n",
    "            \"f1\": f1_score,\n",
    "            \"precision\": precision,\n",
    "        }\n",
    "        with open(BEST_MODELS_PATH, \"w\") as f:\n",
    "            json.dump(best_models, f, indent=2)\n",
    "        return True\n",
    "    else:\n",
    "        print(f\"🧪 {model_name} did not improve:\")\n",
    "        print(f\"F1: {f1_score:.4f} (best: {current_best['f1']:.4f}) | Precision: {precision:.4f} (best: {current_best['precision']:.4f})\")\n",
    "        return False"
   ],
   "id": "21cad0e5d0ee94bb",
   "outputs": [],
   "execution_count": 6
  },
  {
   "metadata": {},
   "cell_type": "code",
   "source": [
    "results = {}\n",
    "best_f1 = -1\n",
    "best_model = None\n",
    "best_version = \"\"\n",
    "\n",
    "# Load tokenizer\n",
    "tokenizer = RobertaTokenizer.from_pretrained(\"s-nlp/roberta_toxicity_classifier\")\n",
    "\n",
    "for version, tokenizer_func in tokenize_funcs.items():\n",
    "    print(f\"\\nTraining version: {version}\")\n",
    "    df = pd.read_csv(dataset_version[version])  # Must contain 'input_text', 'context', 'message', 'label'\n",
    "    dataset = Dataset.from_pandas(df)\n",
    "    tokenized = dataset.map(tokenizer_func, batched=True)\n",
    "    tokenized = tokenized.train_test_split(test_size=0.25)\n",
    "    tokenized.set_format(type=\"torch\", columns=[\"input_ids\", \"attention_mask\", \"label\"])\n",
    "\n",
    "    model_name = f\"s-nlp-roberta-toxicity-classifier-{version}\"\n",
    "    model = RobertaForSequenceClassification.from_pretrained(\"s-nlp/roberta_toxicity_classifier\", num_labels=2)\n",
    "    model.to(device)\n",
    "\n",
    "    def compute_metrics(eval_pred):\n",
    "        logits, labels = eval_pred\n",
    "        preds = np.argmax(logits, axis=-1)\n",
    "        acc = accuracy_score(labels, preds)\n",
    "        precision, recall, f1, _ = precision_recall_fscore_support(labels, preds, average='binary', zero_division=0)\n",
    "        return {\"accuracy\": acc, \"precision\": precision, \"recall\": recall, \"f1\": f1}\n",
    "\n",
    "    training_args = TrainingArguments(\n",
    "        output_dir=\"./results\",\n",
    "        eval_strategy=\"epoch\",             # Evaluate every epoch\n",
    "        save_strategy=\"epoch\",                   # Save every epoch\n",
    "        learning_rate=2e-5,                      # From table\n",
    "        per_device_train_batch_size=16,          # From table\n",
    "        per_device_eval_batch_size=16,           # From table\n",
    "        num_train_epochs=5,                      # From table\n",
    "        weight_decay=0.01,                       # From table\n",
    "        warmup_ratio=0.0,                        # Table didn't specify, assume 0 unless specified\n",
    "        lr_scheduler_type=\"linear\",              # From table\n",
    "        logging_dir=\"./logs\",\n",
    "        load_best_model_at_end=True,\n",
    "        metric_for_best_model=\"f1\",\n",
    "        optim=\"adamw_torch\",                     # Explicitly using AdamW\n",
    "        adam_epsilon=1e-8                        # From table\n",
    "    )\n",
    "\n",
    "    trainer = Trainer(\n",
    "        model=model,\n",
    "        args=training_args,\n",
    "        train_dataset=tokenized[\"train\"],\n",
    "        eval_dataset=tokenized[\"test\"],\n",
    "        tokenizer=tokenizer,\n",
    "        compute_metrics=compute_metrics\n",
    "    )\n",
    "\n",
    "    trainer.train()\n",
    "    eval_result = trainer.evaluate()\n",
    "    results[version] = eval_result\n",
    "\n",
    "    if update_best_model(\n",
    "        model_name=model_name,\n",
    "        f1_score=eval_result[\"eval_f1\"],\n",
    "        precision=eval_result[\"eval_precision\"],\n",
    "    ):\n",
    "        trainer.save_model(f\"models/best-{model_name}\")\n",
    "\n",
    "    if eval_result[\"eval_f1\"] > best_f1:\n",
    "        best_f1 = eval_result[\"eval_f1\"]\n",
    "        best_model = model\n",
    "        best_version = version\n",
    "\n",
    "# Print summary\n",
    "print(\"\\n--- Summary of Results ---\")\n",
    "for version, result in results.items():\n",
    "    print(f\"{version.upper()}: F1 = {result['eval_f1']:.4f}\")\n",
    "\n",
    "print(f\"\\nBest model: {best_version.upper()} (F1 = {best_f1:.4f})\")"
   ],
   "id": "ef18b080ad43adb9",
   "outputs": [],
   "execution_count": null
  }
 ],
 "metadata": {
  "kernelspec": {
   "name": "python3",
   "language": "python",
   "display_name": "Python 3 (ipykernel)"
  }
 },
 "nbformat": 5,
 "nbformat_minor": 9
}
