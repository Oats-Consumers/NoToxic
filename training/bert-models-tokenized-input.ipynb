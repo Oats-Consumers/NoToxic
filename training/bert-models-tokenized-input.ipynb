{
 "cells": [
  {
   "metadata": {
    "ExecuteTime": {
     "end_time": "2025-05-13T23:03:51.763140Z",
     "start_time": "2025-05-13T23:03:28.783897Z"
    }
   },
   "cell_type": "code",
   "source": [
    "import os\n",
    "import json\n",
    "import pandas as pd\n",
    "import numpy as np\n",
    "import torch\n",
    "from datasets import Dataset\n",
    "from transformers import (\n",
    "    BertTokenizer,\n",
    "    BertForSequenceClassification,\n",
    "    Trainer,\n",
    "    TrainingArguments,\n",
    "    EarlyStoppingCallback, DataCollatorWithPadding\n",
    ")\n",
    "from sklearn.metrics import accuracy_score, precision_recall_fscore_support\n",
    "from utils import SPECIAL_TOKENS"
   ],
   "id": "720e1aff3e0ca141",
   "outputs": [],
   "execution_count": 1
  },
  {
   "metadata": {
    "ExecuteTime": {
     "end_time": "2025-05-13T23:03:54.118555Z",
     "start_time": "2025-05-13T23:03:54.102939Z"
    }
   },
   "cell_type": "code",
   "source": [
    "import random\n",
    "\n",
    "\n",
    "def seed_everything(seed=42):\n",
    "    random.seed(seed)\n",
    "    np.random.seed(seed)\n",
    "    torch.manual_seed(seed)\n",
    "    if torch.cuda.is_available():\n",
    "        torch.cuda.manual_seed_all(seed)\n",
    "\n",
    "seed_everything(42)"
   ],
   "id": "2a5ae0d66448aa31",
   "outputs": [],
   "execution_count": 2
  },
  {
   "metadata": {
    "ExecuteTime": {
     "end_time": "2025-05-13T23:03:58.828027Z",
     "start_time": "2025-05-13T23:03:58.812768Z"
    }
   },
   "cell_type": "code",
   "source": [
    "device = torch.device(\"mps\" if torch.backends.mps.is_available() else \"cuda\" if torch.cuda.is_available() else \"cpu\")\n",
    "print(f\"Using device: {device}\")"
   ],
   "id": "d661f12e6e57c12f",
   "outputs": [
    {
     "name": "stdout",
     "output_type": "stream",
     "text": [
      "Using device: mps\n"
     ]
    }
   ],
   "execution_count": 3
  },
  {
   "metadata": {
    "ExecuteTime": {
     "end_time": "2025-05-13T23:04:00.484561Z",
     "start_time": "2025-05-13T23:04:00.482475Z"
    }
   },
   "cell_type": "code",
   "source": "project_root = os.path.abspath(\"..\")",
   "id": "7f3ff76271dcb86f",
   "outputs": [],
   "execution_count": 4
  },
  {
   "metadata": {
    "ExecuteTime": {
     "end_time": "2025-05-13T23:04:01.853937Z",
     "start_time": "2025-05-13T23:04:01.840953Z"
    }
   },
   "cell_type": "code",
   "source": [
    "DATASET_PATH = os.path.join(project_root, \"datasets/processed_dataset.csv\")\n",
    "df = pd.read_csv(DATASET_PATH)\n",
    "dataset = Dataset.from_pandas(df)"
   ],
   "id": "a57a80d69c642697",
   "outputs": [],
   "execution_count": 5
  },
  {
   "metadata": {
    "ExecuteTime": {
     "end_time": "2025-05-13T23:04:03.860311Z",
     "start_time": "2025-05-13T23:04:03.858392Z"
    }
   },
   "cell_type": "code",
   "source": [
    "def tokenized(example):\n",
    "    return tokenizer(\n",
    "        example[\"input_text\"],\n",
    "        padding=\"max_length\",\n",
    "        truncation=True,\n",
    "        max_length=512,\n",
    "        return_token_type_ids=True\n",
    "    )"
   ],
   "id": "702fd19727e834b8",
   "outputs": [],
   "execution_count": 6
  },
  {
   "metadata": {
    "ExecuteTime": {
     "end_time": "2025-05-13T23:04:05.710898Z",
     "start_time": "2025-05-13T23:04:05.708757Z"
    }
   },
   "cell_type": "code",
   "source": [
    "BEST_MODELS_PATH = \"best_models.json\"\n",
    "F1_TOLERANCE = 1e-2\n",
    "\n",
    "def load_best_models():\n",
    "    if not os.path.exists(BEST_MODELS_PATH):\n",
    "        return {}\n",
    "    with open(BEST_MODELS_PATH, \"r\") as f:\n",
    "        return json.load(f)\n"
   ],
   "id": "bdbcaf8c606b5124",
   "outputs": [],
   "execution_count": 7
  },
  {
   "metadata": {
    "ExecuteTime": {
     "end_time": "2025-05-13T23:04:07.366237Z",
     "start_time": "2025-05-13T23:04:07.362166Z"
    }
   },
   "cell_type": "code",
   "source": [
    "def update_best_model(model_name, f1_score, precision, recall, accuracy):\n",
    "    best_models = load_best_models()\n",
    "    current_best = best_models.get(model_name, {\"f1\": 0.0, \"precision\": 0.0})\n",
    "\n",
    "    better_f1 = f1_score - F1_TOLERANCE > current_best[\"f1\"]\n",
    "    similar_f1 = abs(f1_score - current_best[\"f1\"]) <= F1_TOLERANCE\n",
    "    better_precision = precision > current_best[\"precision\"]\n",
    "\n",
    "    if better_f1 or (similar_f1 and better_precision):\n",
    "        print(f\"🎯 New best for {model_name}!\")\n",
    "        best_models[model_name] = {\n",
    "            \"f1\": f1_score,\n",
    "            \"precision\": precision,\n",
    "            \"recall\": recall,\n",
    "            \"accuracy\": accuracy,\n",
    "        }\n",
    "        with open(BEST_MODELS_PATH, \"w\") as f:\n",
    "            json.dump(best_models, f, indent=2)\n",
    "        return True\n",
    "    else:\n",
    "        print(f\"🧪 {model_name} did not improve:\")\n",
    "        print(f\"F1: {f1_score:.4f} (best: {current_best['f1']:.4f}) | Precision: {precision:.4f} (best: {current_best['precision']:.4f})\")\n",
    "        return False\n"
   ],
   "id": "ffe7d84c6f5f63fd",
   "outputs": [],
   "execution_count": 8
  },
  {
   "metadata": {
    "ExecuteTime": {
     "end_time": "2025-05-13T23:04:09.805009Z",
     "start_time": "2025-05-13T23:04:09.802193Z"
    }
   },
   "cell_type": "code",
   "source": [
    "\n",
    "def compute_metrics(eval_pred):\n",
    "    logits, labels = eval_pred\n",
    "    preds = np.argmax(logits, axis=-1)\n",
    "    acc = accuracy_score(labels, preds)\n",
    "    precision, recall, f1, _ = precision_recall_fscore_support(labels, preds, average='binary', zero_division=0)\n",
    "    return {\"accuracy\": acc, \"precision\": precision, \"recall\": recall, \"f1\": f1}"
   ],
   "id": "9b08b8d565bfb14d",
   "outputs": [],
   "execution_count": 9
  },
  {
   "metadata": {
    "ExecuteTime": {
     "end_time": "2025-05-13T23:04:35.822867Z",
     "start_time": "2025-05-13T23:04:10.968401Z"
    }
   },
   "cell_type": "code",
   "source": [
    "MODELS = [\"bert-base-uncased\", \"bertweet-base\", \"bert-large-uncased\"]\n",
    "results = {}\n",
    "best_f1 = -1\n",
    "best_model_name = None\n",
    "\n",
    "for model_id in MODELS:\n",
    "    model_tag = model_id.replace(\"/\", \"-\").replace(\"_\", \"-\")\n",
    "    model_name = f\"{model_tag}-tokenized\"\n",
    "    print(f\"\\n🚀 Training model: {model_name}\")\n",
    "\n",
    "    tokenizer = BertTokenizer.from_pretrained(model_id)\n",
    "    # tokenizer.add_special_tokens({\"additional_special_tokens\": SPECIAL_TOKENS})\n",
    "\n",
    "    tokenized_dataset = dataset.map(tokenized, batched=True)\n",
    "    tokenized_dataset = tokenized_dataset.train_test_split(test_size=0.25, seed=42)\n",
    "    tokenized_dataset.set_format(type=\"torch\", columns=[\"input_ids\", \"attention_mask\", \"token_type_ids\", \"label\"])\n",
    "\n",
    "    model = BertForSequenceClassification.from_pretrained(model_id, num_labels=2)\n",
    "    # model.resize_token_embeddings(len(tokenizer))\n",
    "    model.to(device)\n",
    "\n",
    "    training_args = TrainingArguments(\n",
    "        output_dir=f\"./results_{model_name}\",\n",
    "        eval_strategy=\"epoch\",\n",
    "        save_strategy=\"epoch\",\n",
    "        learning_rate=2e-5,\n",
    "        per_device_train_batch_size=16,\n",
    "        per_device_eval_batch_size=16,\n",
    "        num_train_epochs=10,\n",
    "        weight_decay=0.01,\n",
    "        warmup_ratio=0.0,\n",
    "        lr_scheduler_type=\"linear\",\n",
    "        logging_dir=f\"./logs_{model_name}\",\n",
    "        load_best_model_at_end=True,\n",
    "        metric_for_best_model=\"f1\",\n",
    "        optim=\"adamw_torch\",\n",
    "        adam_epsilon=1e-8\n",
    "    )\n",
    "\n",
    "    trainer = Trainer(\n",
    "        model=model,\n",
    "        args=training_args,\n",
    "        train_dataset=tokenized_dataset[\"train\"],\n",
    "        eval_dataset=tokenized_dataset[\"test\"],\n",
    "        tokenizer=tokenizer,\n",
    "        data_collator=DataCollatorWithPadding(tokenizer=tokenizer),\n",
    "        compute_metrics=compute_metrics,\n",
    "        callbacks=[EarlyStoppingCallback(early_stopping_patience=2)]\n",
    "    )\n",
    "\n",
    "    trainer.train()\n",
    "    eval_result = trainer.evaluate()\n",
    "    results[model_name] = eval_result\n",
    "\n",
    "    if update_best_model(\n",
    "        model_name=f\"{model_name}\",\n",
    "        f1_score=eval_result[\"eval_f1\"],\n",
    "        precision=eval_result[\"eval_precision\"],\n",
    "        recall=eval_result[\"eval_recall\"],\n",
    "        accuracy=eval_result[\"eval_accuracy\"]\n",
    "    ):\n",
    "        trainer.save_model(f\"models/best-{model_name}\")\n",
    "\n",
    "    if eval_result[\"eval_f1\"] > best_f1:\n",
    "        best_f1 = eval_result[\"eval_f1\"]\n",
    "        best_model_name = model_name\n",
    "\n",
    "# ✅ Summary\n",
    "print(\"\\n--- Summary of Results ---\")\n",
    "for name, result in results.items():\n",
    "    print(f\"{name}: F1 = {result['eval_f1']:.4f}\")\n",
    "\n",
    "print(f\"\\n🏆 Best model: {best_model_name} (F1 = {best_f1:.4f})\")"
   ],
   "id": "408e327dc5520118",
   "outputs": [
    {
     "name": "stdout",
     "output_type": "stream",
     "text": [
      "\n",
      "🚀 Training model: bert-base-uncased-tokenized\n"
     ]
    },
    {
     "data": {
      "text/plain": [
       "Map:   0%|          | 0/1080 [00:00<?, ? examples/s]"
      ],
      "application/vnd.jupyter.widget-view+json": {
       "version_major": 2,
       "version_minor": 0,
       "model_id": "b7d83d75e5da498989363110398588f4"
      }
     },
     "metadata": {},
     "output_type": "display_data"
    },
    {
     "name": "stderr",
     "output_type": "stream",
     "text": [
      "Some weights of BertForSequenceClassification were not initialized from the model checkpoint at bert-base-uncased and are newly initialized: ['classifier.bias', 'classifier.weight']\n",
      "You should probably TRAIN this model on a down-stream task to be able to use it for predictions and inference.\n",
      "/var/folders/vz/ddck6jjd6m90zdsvp6wmk4qm0000gn/T/ipykernel_67577/1828458193.py:40: FutureWarning: `tokenizer` is deprecated and will be removed in version 5.0.0 for `Trainer.__init__`. Use `processing_class` instead.\n",
      "  trainer = Trainer(\n"
     ]
    },
    {
     "data": {
      "text/plain": [
       "<IPython.core.display.HTML object>"
      ],
      "text/html": [
       "\n",
       "    <div>\n",
       "      \n",
       "      <progress value='17' max='510' style='width:300px; height:20px; vertical-align: middle;'></progress>\n",
       "      [ 17/510 00:19 < 10:26, 0.79 it/s, Epoch 0.31/10]\n",
       "    </div>\n",
       "    <table border=\"1\" class=\"dataframe\">\n",
       "  <thead>\n",
       " <tr style=\"text-align: left;\">\n",
       "      <th>Epoch</th>\n",
       "      <th>Training Loss</th>\n",
       "      <th>Validation Loss</th>\n",
       "    </tr>\n",
       "  </thead>\n",
       "  <tbody>\n",
       "  </tbody>\n",
       "</table><p>"
      ]
     },
     "metadata": {},
     "output_type": "display_data"
    },
    {
     "ename": "KeyboardInterrupt",
     "evalue": "",
     "output_type": "error",
     "traceback": [
      "\u001B[0;31m---------------------------------------------------------------------------\u001B[0m",
      "\u001B[0;31mKeyboardInterrupt\u001B[0m                         Traceback (most recent call last)",
      "Cell \u001B[0;32mIn[10], line 51\u001B[0m\n\u001B[1;32m     22\u001B[0m training_args \u001B[38;5;241m=\u001B[39m TrainingArguments(\n\u001B[1;32m     23\u001B[0m     output_dir\u001B[38;5;241m=\u001B[39m\u001B[38;5;124mf\u001B[39m\u001B[38;5;124m\"\u001B[39m\u001B[38;5;124m./results_\u001B[39m\u001B[38;5;132;01m{\u001B[39;00mmodel_name\u001B[38;5;132;01m}\u001B[39;00m\u001B[38;5;124m\"\u001B[39m,\n\u001B[1;32m     24\u001B[0m     eval_strategy\u001B[38;5;241m=\u001B[39m\u001B[38;5;124m\"\u001B[39m\u001B[38;5;124mepoch\u001B[39m\u001B[38;5;124m\"\u001B[39m,\n\u001B[0;32m   (...)\u001B[0m\n\u001B[1;32m     37\u001B[0m     adam_epsilon\u001B[38;5;241m=\u001B[39m\u001B[38;5;241m1e-8\u001B[39m\n\u001B[1;32m     38\u001B[0m )\n\u001B[1;32m     40\u001B[0m trainer \u001B[38;5;241m=\u001B[39m Trainer(\n\u001B[1;32m     41\u001B[0m     model\u001B[38;5;241m=\u001B[39mmodel,\n\u001B[1;32m     42\u001B[0m     args\u001B[38;5;241m=\u001B[39mtraining_args,\n\u001B[0;32m   (...)\u001B[0m\n\u001B[1;32m     48\u001B[0m     callbacks\u001B[38;5;241m=\u001B[39m[EarlyStoppingCallback(early_stopping_patience\u001B[38;5;241m=\u001B[39m\u001B[38;5;241m2\u001B[39m)]\n\u001B[1;32m     49\u001B[0m )\n\u001B[0;32m---> 51\u001B[0m trainer\u001B[38;5;241m.\u001B[39mtrain()\n\u001B[1;32m     52\u001B[0m eval_result \u001B[38;5;241m=\u001B[39m trainer\u001B[38;5;241m.\u001B[39mevaluate()\n\u001B[1;32m     53\u001B[0m results[model_name] \u001B[38;5;241m=\u001B[39m eval_result\n",
      "File \u001B[0;32m~/anaconda3/envs/Project_Toxic_Chat_Detector/lib/python3.12/site-packages/transformers/trainer.py:2245\u001B[0m, in \u001B[0;36mTrainer.train\u001B[0;34m(self, resume_from_checkpoint, trial, ignore_keys_for_eval, **kwargs)\u001B[0m\n\u001B[1;32m   2243\u001B[0m         hf_hub_utils\u001B[38;5;241m.\u001B[39menable_progress_bars()\n\u001B[1;32m   2244\u001B[0m \u001B[38;5;28;01melse\u001B[39;00m:\n\u001B[0;32m-> 2245\u001B[0m     \u001B[38;5;28;01mreturn\u001B[39;00m inner_training_loop(\n\u001B[1;32m   2246\u001B[0m         args\u001B[38;5;241m=\u001B[39margs,\n\u001B[1;32m   2247\u001B[0m         resume_from_checkpoint\u001B[38;5;241m=\u001B[39mresume_from_checkpoint,\n\u001B[1;32m   2248\u001B[0m         trial\u001B[38;5;241m=\u001B[39mtrial,\n\u001B[1;32m   2249\u001B[0m         ignore_keys_for_eval\u001B[38;5;241m=\u001B[39mignore_keys_for_eval,\n\u001B[1;32m   2250\u001B[0m     )\n",
      "File \u001B[0;32m~/anaconda3/envs/Project_Toxic_Chat_Detector/lib/python3.12/site-packages/transformers/trainer.py:2560\u001B[0m, in \u001B[0;36mTrainer._inner_training_loop\u001B[0;34m(self, batch_size, args, resume_from_checkpoint, trial, ignore_keys_for_eval)\u001B[0m\n\u001B[1;32m   2553\u001B[0m context \u001B[38;5;241m=\u001B[39m (\n\u001B[1;32m   2554\u001B[0m     functools\u001B[38;5;241m.\u001B[39mpartial(\u001B[38;5;28mself\u001B[39m\u001B[38;5;241m.\u001B[39maccelerator\u001B[38;5;241m.\u001B[39mno_sync, model\u001B[38;5;241m=\u001B[39mmodel)\n\u001B[1;32m   2555\u001B[0m     \u001B[38;5;28;01mif\u001B[39;00m i \u001B[38;5;241m!=\u001B[39m \u001B[38;5;28mlen\u001B[39m(batch_samples) \u001B[38;5;241m-\u001B[39m \u001B[38;5;241m1\u001B[39m\n\u001B[1;32m   2556\u001B[0m     \u001B[38;5;129;01mand\u001B[39;00m \u001B[38;5;28mself\u001B[39m\u001B[38;5;241m.\u001B[39maccelerator\u001B[38;5;241m.\u001B[39mdistributed_type \u001B[38;5;241m!=\u001B[39m DistributedType\u001B[38;5;241m.\u001B[39mDEEPSPEED\n\u001B[1;32m   2557\u001B[0m     \u001B[38;5;28;01melse\u001B[39;00m contextlib\u001B[38;5;241m.\u001B[39mnullcontext\n\u001B[1;32m   2558\u001B[0m )\n\u001B[1;32m   2559\u001B[0m \u001B[38;5;28;01mwith\u001B[39;00m context():\n\u001B[0;32m-> 2560\u001B[0m     tr_loss_step \u001B[38;5;241m=\u001B[39m \u001B[38;5;28mself\u001B[39m\u001B[38;5;241m.\u001B[39mtraining_step(model, inputs, num_items_in_batch)\n\u001B[1;32m   2562\u001B[0m \u001B[38;5;28;01mif\u001B[39;00m (\n\u001B[1;32m   2563\u001B[0m     args\u001B[38;5;241m.\u001B[39mlogging_nan_inf_filter\n\u001B[1;32m   2564\u001B[0m     \u001B[38;5;129;01mand\u001B[39;00m \u001B[38;5;129;01mnot\u001B[39;00m is_torch_xla_available()\n\u001B[1;32m   2565\u001B[0m     \u001B[38;5;129;01mand\u001B[39;00m (torch\u001B[38;5;241m.\u001B[39misnan(tr_loss_step) \u001B[38;5;129;01mor\u001B[39;00m torch\u001B[38;5;241m.\u001B[39misinf(tr_loss_step))\n\u001B[1;32m   2566\u001B[0m ):\n\u001B[1;32m   2567\u001B[0m     \u001B[38;5;66;03m# if loss is nan or inf simply add the average of previous logged losses\u001B[39;00m\n\u001B[1;32m   2568\u001B[0m     tr_loss \u001B[38;5;241m=\u001B[39m tr_loss \u001B[38;5;241m+\u001B[39m tr_loss \u001B[38;5;241m/\u001B[39m (\u001B[38;5;241m1\u001B[39m \u001B[38;5;241m+\u001B[39m \u001B[38;5;28mself\u001B[39m\u001B[38;5;241m.\u001B[39mstate\u001B[38;5;241m.\u001B[39mglobal_step \u001B[38;5;241m-\u001B[39m \u001B[38;5;28mself\u001B[39m\u001B[38;5;241m.\u001B[39m_globalstep_last_logged)\n",
      "File \u001B[0;32m~/anaconda3/envs/Project_Toxic_Chat_Detector/lib/python3.12/site-packages/transformers/trainer.py:3782\u001B[0m, in \u001B[0;36mTrainer.training_step\u001B[0;34m(***failed resolving arguments***)\u001B[0m\n\u001B[1;32m   3779\u001B[0m \u001B[38;5;28;01mif\u001B[39;00m \u001B[38;5;28mself\u001B[39m\u001B[38;5;241m.\u001B[39maccelerator\u001B[38;5;241m.\u001B[39mdistributed_type \u001B[38;5;241m==\u001B[39m DistributedType\u001B[38;5;241m.\u001B[39mDEEPSPEED:\n\u001B[1;32m   3780\u001B[0m     kwargs[\u001B[38;5;124m\"\u001B[39m\u001B[38;5;124mscale_wrt_gas\u001B[39m\u001B[38;5;124m\"\u001B[39m] \u001B[38;5;241m=\u001B[39m \u001B[38;5;28;01mFalse\u001B[39;00m\n\u001B[0;32m-> 3782\u001B[0m \u001B[38;5;28mself\u001B[39m\u001B[38;5;241m.\u001B[39maccelerator\u001B[38;5;241m.\u001B[39mbackward(loss, \u001B[38;5;241m*\u001B[39m\u001B[38;5;241m*\u001B[39mkwargs)\n\u001B[1;32m   3784\u001B[0m \u001B[38;5;28;01mreturn\u001B[39;00m loss\u001B[38;5;241m.\u001B[39mdetach()\n",
      "File \u001B[0;32m~/anaconda3/envs/Project_Toxic_Chat_Detector/lib/python3.12/site-packages/accelerate/accelerator.py:2454\u001B[0m, in \u001B[0;36mAccelerator.backward\u001B[0;34m(self, loss, **kwargs)\u001B[0m\n\u001B[1;32m   2452\u001B[0m     \u001B[38;5;28mself\u001B[39m\u001B[38;5;241m.\u001B[39mlomo_backward(loss, learning_rate)\n\u001B[1;32m   2453\u001B[0m \u001B[38;5;28;01melse\u001B[39;00m:\n\u001B[0;32m-> 2454\u001B[0m     loss\u001B[38;5;241m.\u001B[39mbackward(\u001B[38;5;241m*\u001B[39m\u001B[38;5;241m*\u001B[39mkwargs)\n",
      "File \u001B[0;32m~/anaconda3/envs/Project_Toxic_Chat_Detector/lib/python3.12/site-packages/torch/_tensor.py:626\u001B[0m, in \u001B[0;36mTensor.backward\u001B[0;34m(self, gradient, retain_graph, create_graph, inputs)\u001B[0m\n\u001B[1;32m    616\u001B[0m \u001B[38;5;28;01mif\u001B[39;00m has_torch_function_unary(\u001B[38;5;28mself\u001B[39m):\n\u001B[1;32m    617\u001B[0m     \u001B[38;5;28;01mreturn\u001B[39;00m handle_torch_function(\n\u001B[1;32m    618\u001B[0m         Tensor\u001B[38;5;241m.\u001B[39mbackward,\n\u001B[1;32m    619\u001B[0m         (\u001B[38;5;28mself\u001B[39m,),\n\u001B[0;32m   (...)\u001B[0m\n\u001B[1;32m    624\u001B[0m         inputs\u001B[38;5;241m=\u001B[39minputs,\n\u001B[1;32m    625\u001B[0m     )\n\u001B[0;32m--> 626\u001B[0m torch\u001B[38;5;241m.\u001B[39mautograd\u001B[38;5;241m.\u001B[39mbackward(\n\u001B[1;32m    627\u001B[0m     \u001B[38;5;28mself\u001B[39m, gradient, retain_graph, create_graph, inputs\u001B[38;5;241m=\u001B[39minputs\n\u001B[1;32m    628\u001B[0m )\n",
      "File \u001B[0;32m~/anaconda3/envs/Project_Toxic_Chat_Detector/lib/python3.12/site-packages/torch/autograd/__init__.py:347\u001B[0m, in \u001B[0;36mbackward\u001B[0;34m(tensors, grad_tensors, retain_graph, create_graph, grad_variables, inputs)\u001B[0m\n\u001B[1;32m    342\u001B[0m     retain_graph \u001B[38;5;241m=\u001B[39m create_graph\n\u001B[1;32m    344\u001B[0m \u001B[38;5;66;03m# The reason we repeat the same comment below is that\u001B[39;00m\n\u001B[1;32m    345\u001B[0m \u001B[38;5;66;03m# some Python versions print out the first line of a multi-line function\u001B[39;00m\n\u001B[1;32m    346\u001B[0m \u001B[38;5;66;03m# calls in the traceback and some print out the last line\u001B[39;00m\n\u001B[0;32m--> 347\u001B[0m _engine_run_backward(\n\u001B[1;32m    348\u001B[0m     tensors,\n\u001B[1;32m    349\u001B[0m     grad_tensors_,\n\u001B[1;32m    350\u001B[0m     retain_graph,\n\u001B[1;32m    351\u001B[0m     create_graph,\n\u001B[1;32m    352\u001B[0m     inputs,\n\u001B[1;32m    353\u001B[0m     allow_unreachable\u001B[38;5;241m=\u001B[39m\u001B[38;5;28;01mTrue\u001B[39;00m,\n\u001B[1;32m    354\u001B[0m     accumulate_grad\u001B[38;5;241m=\u001B[39m\u001B[38;5;28;01mTrue\u001B[39;00m,\n\u001B[1;32m    355\u001B[0m )\n",
      "File \u001B[0;32m~/anaconda3/envs/Project_Toxic_Chat_Detector/lib/python3.12/site-packages/torch/autograd/graph.py:823\u001B[0m, in \u001B[0;36m_engine_run_backward\u001B[0;34m(t_outputs, *args, **kwargs)\u001B[0m\n\u001B[1;32m    821\u001B[0m     unregister_hooks \u001B[38;5;241m=\u001B[39m _register_logging_hooks_on_whole_graph(t_outputs)\n\u001B[1;32m    822\u001B[0m \u001B[38;5;28;01mtry\u001B[39;00m:\n\u001B[0;32m--> 823\u001B[0m     \u001B[38;5;28;01mreturn\u001B[39;00m Variable\u001B[38;5;241m.\u001B[39m_execution_engine\u001B[38;5;241m.\u001B[39mrun_backward(  \u001B[38;5;66;03m# Calls into the C++ engine to run the backward pass\u001B[39;00m\n\u001B[1;32m    824\u001B[0m         t_outputs, \u001B[38;5;241m*\u001B[39margs, \u001B[38;5;241m*\u001B[39m\u001B[38;5;241m*\u001B[39mkwargs\n\u001B[1;32m    825\u001B[0m     )  \u001B[38;5;66;03m# Calls into the C++ engine to run the backward pass\u001B[39;00m\n\u001B[1;32m    826\u001B[0m \u001B[38;5;28;01mfinally\u001B[39;00m:\n\u001B[1;32m    827\u001B[0m     \u001B[38;5;28;01mif\u001B[39;00m attach_logging_hooks:\n",
      "\u001B[0;31mKeyboardInterrupt\u001B[0m: "
     ]
    }
   ],
   "execution_count": 10
  }
 ],
 "metadata": {},
 "nbformat": 4,
 "nbformat_minor": 5
}
